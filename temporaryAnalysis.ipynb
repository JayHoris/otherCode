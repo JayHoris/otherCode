{
 "cells": [
  {
   "cell_type": "code",
   "execution_count": 9,
   "id": "initial_id",
   "metadata": {
    "collapsed": true,
    "ExecuteTime": {
     "end_time": "2024-05-06T06:21:41.844708Z",
     "start_time": "2024-05-06T06:21:41.828238Z"
    }
   },
   "outputs": [
    {
     "data": {
      "text/plain": "oo",
      "text/latex": "$\\displaystyle \\infty$"
     },
     "execution_count": 9,
     "metadata": {},
     "output_type": "execute_result"
    }
   ],
   "source": [
    "from sympy import symbols, limit, oo\n",
    "\n",
    "# 定义符号变量\n",
    "k = symbols('k')\n",
    "\n",
    "\n",
    "\n",
    "# 构造表达式\n",
    "expression = ((1+1/2**(k+1))**2-1) / ((1 + 1/2**k)**2 -1)**2\n",
    "\n",
    "# 计算极限\n",
    "lim_result = limit(expression, k, oo)\n",
    "lim_result"
   ]
  }
 ],
 "metadata": {
  "kernelspec": {
   "display_name": "Python 3",
   "language": "python",
   "name": "python3"
  },
  "language_info": {
   "codemirror_mode": {
    "name": "ipython",
    "version": 2
   },
   "file_extension": ".py",
   "mimetype": "text/x-python",
   "name": "python",
   "nbconvert_exporter": "python",
   "pygments_lexer": "ipython2",
   "version": "2.7.6"
  }
 },
 "nbformat": 4,
 "nbformat_minor": 5
}
